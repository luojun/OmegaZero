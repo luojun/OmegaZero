{
 "cells": [
  {
   "cell_type": "code",
   "execution_count": null,
   "metadata": {},
   "outputs": [],
   "source": [
    "import os\n",
    "import sys\n",
    "\n",
    "nb_dir = os.path.split(os.getcwd())[0]\n",
    "if nb_dir not in sys.path:\n",
    "    sys.path.append(nb_dir)\n",
    "\n",
    "from oz import config\n",
    "from oz.world.world import World\n",
    "from oz.world.settings import Settings\n",
    "from oz.runner.runner import Runner\n",
    "from oz.agent.agent import Agent\n",
    "\n",
    "_settings = Settings(config, config.DEFAULT_BOARD_NUMBER_OF_LINES, \n",
    "                     config.DEFAULT_NUMBER_OF_STONES, config.DEFAULT_NUMBER_OF_AGENTS)\n",
    "\n",
    "from oz.affordances.agent0 import Agent0\n",
    "_world = World(_settings, [Agent, Agent0])\n",
    "\n",
    "_runner = Runner(_world, resolution=config.DEFAULT_DISPLAY_RESOLUTION,\n",
    "                 transparent_color_key=config.DEFAULT_TRANSPARENT_COLOR_KEY)\n",
    "_runner.run(cycles=500)\n"
   ]
  },
  {
   "cell_type": "code",
   "execution_count": null,
   "metadata": {},
   "outputs": [],
   "source": [
    "_world.agents[1].all_predictions\n",
    "_world.agents[1].all_actuals"
   ]
  }
 ],
 "metadata": {
  "kernelspec": {
   "display_name": "Python 3",
   "language": "python",
   "name": "python3"
  },
  "language_info": {
   "codemirror_mode": {
    "name": "ipython",
    "version": 3
   },
   "file_extension": ".py",
   "mimetype": "text/x-python",
   "name": "python",
   "nbconvert_exporter": "python",
   "pygments_lexer": "ipython3",
   "version": "3.7.4"
  }
 },
 "nbformat": 4,
 "nbformat_minor": 2
}
